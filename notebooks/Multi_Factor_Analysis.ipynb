{
 "cells": [
  {
   "cell_type": "code",
   "execution_count": null,
   "metadata": {},
   "outputs": [],
   "source": [
    "# Multi_Factor_Analysis.ipynb\n",
    "# Performs regression analysis for multi-factor modeling.\n",
    "\n",
    "from src.data_ingestion import DataIngestion\n",
    "from src.regression_analysis import RegressionAnalysis\n",
    "from src.visualization import Visualization\n",
    "\n",
    "# Load data\n",
    "file_path = \"data/outputs/processed_factors.csv\"\n",
    "data_ingestion = DataIngestion(file_path)\n",
    "data = data_ingestion.load_data()\n",
    "\n",
    "# Perform regression\n",
    "dependent_var = 'AssetReturns'\n",
    "independent_vars = ['Market_Excess', 'SMB', 'HML']\n",
    "regression_analysis = RegressionAnalysis(data, dependent_var, independent_vars)\n",
    "model = regression_analysis.perform_regression()\n",
    "\n",
    "# Visualize results\n",
    "Visualization.plot_factor_exposures(model.params)\n"
   ]
  }
 ],
 "metadata": {
  "language_info": {
   "name": "python"
  }
 },
 "nbformat": 4,
 "nbformat_minor": 2
}
