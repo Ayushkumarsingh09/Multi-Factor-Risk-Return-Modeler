{
 "cells": [
  {
   "cell_type": "code",
   "execution_count": null,
   "metadata": {},
   "outputs": [],
   "source": [
    "# Factor_Construction.ipynb\n",
    "# Demonstrates the construction of multi-factor models.\n",
    "\n",
    "from src.data_ingestion import DataIngestion\n",
    "from src.factor_construction import FactorConstruction\n",
    "\n",
    "# Load data\n",
    "file_path = \"data/inputs/historical_prices.csv\"\n",
    "data_ingestion = DataIngestion(file_path)\n",
    "data = data_ingestion.load_data()\n",
    "\n",
    "# Construct factors\n",
    "factor_constructor = FactorConstruction(data)\n",
    "data = factor_constructor.construct_market_factor('MarketIndex')\n",
    "data = factor_constructor.construct_smb_hml()\n",
    "\n",
    "# Save processed data\n",
    "data.to_csv(\"data/outputs/processed_factors.csv\", index=False)\n",
    "print(\"Factors constructed and saved successfully.\")\n"
   ]
  }
 ],
 "metadata": {
  "language_info": {
   "name": "python"
  }
 },
 "nbformat": 4,
 "nbformat_minor": 2
}
